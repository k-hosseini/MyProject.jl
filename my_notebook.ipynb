{
 "cells": [
  {
   "cell_type": "code",
   "execution_count": 2,
   "id": "cb465624-d26f-4845-b0b1-ca12e6b2ceae",
   "metadata": {},
   "outputs": [
    {
     "name": "stderr",
     "output_type": "stream",
     "text": [
      "┌ Info: Precompiling MyProject [5f46fe58-7e44-4bf6-81c9-f9d62b37b6a4]\n",
      "└ @ Base loading.jl:1423\n"
     ]
    }
   ],
   "source": [
    "using Revise\n",
    "using MyProject"
   ]
  },
  {
   "cell_type": "code",
   "execution_count": 4,
   "id": "b54f88d0-6622-4cad-bf4b-3d4aff9d1112",
   "metadata": {},
   "outputs": [
    {
     "name": "stdout",
     "output_type": "stream",
     "text": [
      "Modified foo definition\n"
     ]
    },
    {
     "data": {
      "text/plain": [
       "6.913439522008146e-18"
      ]
     },
     "execution_count": 4,
     "metadata": {},
     "output_type": "execute_result"
    }
   ],
   "source": [
    "foo(0)"
   ]
  },
  {
   "cell_type": "code",
   "execution_count": null,
   "id": "be3f251d-bcea-486f-850a-9480e65e1bec",
   "metadata": {},
   "outputs": [],
   "source": []
  }
 ],
 "metadata": {
  "kernelspec": {
   "display_name": "Julia 1.7.1",
   "language": "julia",
   "name": "julia-1.7"
  },
  "language_info": {
   "file_extension": ".jl",
   "mimetype": "application/julia",
   "name": "julia",
   "version": "1.7.1"
  }
 },
 "nbformat": 4,
 "nbformat_minor": 5
}
